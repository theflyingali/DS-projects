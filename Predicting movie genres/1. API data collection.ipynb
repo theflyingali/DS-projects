{
 "cells": [
  {
   "cell_type": "code",
   "execution_count": 1,
   "id": "a9c5b4f0",
   "metadata": {},
   "outputs": [],
   "source": [
    "import requests\n",
    "import pandas as pd\n",
    "import math\n",
    "from time import sleep"
   ]
  },
  {
   "cell_type": "markdown",
   "id": "3ecaaf45",
   "metadata": {},
   "source": [
    "Here I am using a book search API to get information on books written by whichever author I choose. Here I will be extracting data on Agatha Christie and Stephen King.\n",
    "\n",
    "\n",
    "The documentation for the API can be found here https://openlibrary.org/dev/docs/api/search"
   ]
  },
  {
   "cell_type": "code",
   "execution_count": 2,
   "id": "31905ce9",
   "metadata": {},
   "outputs": [
    {
     "data": {
      "text/plain": [
       "dict_keys(['numFound', 'start', 'numFoundExact', 'docs', 'num_found', 'q', 'offset'])"
      ]
     },
     "execution_count": 2,
     "metadata": {},
     "output_type": "execute_result"
    }
   ],
   "source": [
    "# Initially I explore what keys exist in the API\n",
    "base_url = 'http://openlibrary.org/search.json'\n",
    "parameters = {'author':'Agatha Christie'}\n",
    "r = requests.get(base_url, params = parameters)\n",
    "r.json().keys()"
   ]
  },
  {
   "cell_type": "markdown",
   "id": "778d5919",
   "metadata": {},
   "source": [
    "<code>docs</code> is they key for all the information regarding an author. However, <code>numFound</code> can be used to know how many entries there are for a specific author, allowing me to be able to effectively loop and gather all the data on the author."
   ]
  },
  {
   "cell_type": "code",
   "execution_count": 3,
   "id": "606f6fd2",
   "metadata": {
    "code_folding": []
   },
   "outputs": [],
   "source": [
    "# Define function to get the entries of a specified page\n",
    "def get_books(Author,pagenum):\n",
    "    base_url = 'http://openlibrary.org/search.json'\n",
    "    parameters = {'author':Author,'page':pagenum}\n",
    "    r = requests.get(base_url, params = parameters)\n",
    "    df = pd.DataFrame(r.json()['docs'])\n",
    "    max_page = r.json()['numFound'] \n",
    "    return df\n",
    "\n",
    "# Define function to get max number of pages for the author\n",
    "def get_maxpage(Author):\n",
    "    base_url = 'http://openlibrary.org/search.json'\n",
    "    parameters = {'author':Author}\n",
    "    r = requests.get(base_url, params = parameters)\n",
    "    max_page = r.json()['numFound']\n",
    "    return max_page"
   ]
  },
  {
   "cell_type": "code",
   "execution_count": 12,
   "id": "eff76727",
   "metadata": {},
   "outputs": [],
   "source": [
    "# Define function that uses both previous functions to get all entries on an author\n",
    "def get_books_info(Author):\n",
    "    dfs = []# empty list to store dataframes\n",
    "    maxpage = math.ceil(get_maxpage(Author)/100) # 100 since I know the length of a page is 100\n",
    "    # can check this by simply doing len(get_books('Agatha Christie'))\n",
    "    \n",
    "    for page_number in range(1,maxpage+1):\n",
    "        new_df = get_books(Author, page_number)\n",
    "        dfs.append(new_df)\n",
    "        sleep(1)\n",
    "        \n",
    "    df = pd.concat(dfs,ignore_index = True)\n",
    "    return df"
   ]
  },
  {
   "cell_type": "markdown",
   "id": "f10c0bae",
   "metadata": {},
   "source": [
    "Now that the functions have been created, we can easily use them and get all the info on any author of our choice."
   ]
  },
  {
   "cell_type": "code",
   "execution_count": 13,
   "id": "125bf0a7",
   "metadata": {},
   "outputs": [],
   "source": [
    "Agatha_Christie = get_books_info('Agatha Christie')"
   ]
  },
  {
   "cell_type": "code",
   "execution_count": 14,
   "id": "699d6c80",
   "metadata": {},
   "outputs": [],
   "source": [
    "Agatha_Christie.to_csv(\"Agatha Christie.csv\")"
   ]
  },
  {
   "cell_type": "markdown",
   "id": "eadc4e78",
   "metadata": {},
   "source": [
    "In similar fashion, I can extract all the information for any other author, such as Stephen King."
   ]
  },
  {
   "cell_type": "code",
   "execution_count": 15,
   "id": "f426cf0c",
   "metadata": {},
   "outputs": [],
   "source": [
    "Stephen_King = get_books_info('Stephen King')"
   ]
  },
  {
   "cell_type": "code",
   "execution_count": 16,
   "id": "0280b0dd",
   "metadata": {},
   "outputs": [],
   "source": [
    "Stephen_King.to_csv(\"Stephen King.csv\")"
   ]
  }
 ],
 "metadata": {
  "kernelspec": {
   "display_name": "Python 3",
   "language": "python",
   "name": "python3"
  },
  "language_info": {
   "codemirror_mode": {
    "name": "ipython",
    "version": 3
   },
   "file_extension": ".py",
   "mimetype": "text/x-python",
   "name": "python",
   "nbconvert_exporter": "python",
   "pygments_lexer": "ipython3",
   "version": "3.9.4"
  },
  "toc": {
   "base_numbering": 1,
   "nav_menu": {},
   "number_sections": true,
   "sideBar": true,
   "skip_h1_title": false,
   "title_cell": "Table of Contents",
   "title_sidebar": "Contents",
   "toc_cell": false,
   "toc_position": {},
   "toc_section_display": true,
   "toc_window_display": false
  },
  "varInspector": {
   "cols": {
    "lenName": 16,
    "lenType": 16,
    "lenVar": 40
   },
   "kernels_config": {
    "python": {
     "delete_cmd_postfix": "",
     "delete_cmd_prefix": "del ",
     "library": "var_list.py",
     "varRefreshCmd": "print(var_dic_list())"
    },
    "r": {
     "delete_cmd_postfix": ") ",
     "delete_cmd_prefix": "rm(",
     "library": "var_list.r",
     "varRefreshCmd": "cat(var_dic_list()) "
    }
   },
   "types_to_exclude": [
    "module",
    "function",
    "builtin_function_or_method",
    "instance",
    "_Feature"
   ],
   "window_display": false
  }
 },
 "nbformat": 4,
 "nbformat_minor": 5
}
